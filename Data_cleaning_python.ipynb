{
 "cells": [
  {
   "cell_type": "code",
   "execution_count": 66,
   "id": "33862e8e-1a9b-449e-8db8-c9014e9d6969",
   "metadata": {},
   "outputs": [],
   "source": [
    "import pandas as pd \n",
    "import numpy as np\n",
    "import matplotlib.pyplot as plt\n",
    "import seaborn as sns\n",
    "import datetime as dt\n",
    "sns.set()"
   ]
  },
  {
   "cell_type": "code",
   "execution_count": 67,
   "id": "46322f8b-6d93-41f9-b5b4-2a7babc30516",
   "metadata": {},
   "outputs": [
    {
     "data": {
      "text/html": [
       "<div>\n",
       "<style scoped>\n",
       "    .dataframe tbody tr th:only-of-type {\n",
       "        vertical-align: middle;\n",
       "    }\n",
       "\n",
       "    .dataframe tbody tr th {\n",
       "        vertical-align: top;\n",
       "    }\n",
       "\n",
       "    .dataframe thead th {\n",
       "        text-align: right;\n",
       "    }\n",
       "</style>\n",
       "<table border=\"1\" class=\"dataframe\">\n",
       "  <thead>\n",
       "    <tr style=\"text-align: right;\">\n",
       "      <th></th>\n",
       "      <th>country</th>\n",
       "      <th>industry</th>\n",
       "      <th>ai_tool</th>\n",
       "      <th>adoption_rate</th>\n",
       "      <th>daily_active_users</th>\n",
       "      <th>year</th>\n",
       "      <th>user_feedback</th>\n",
       "      <th>age_group</th>\n",
       "      <th>company_size</th>\n",
       "    </tr>\n",
       "  </thead>\n",
       "  <tbody>\n",
       "    <tr>\n",
       "      <th>0</th>\n",
       "      <td>USA</td>\n",
       "      <td>Technology</td>\n",
       "      <td>ChatGPT</td>\n",
       "      <td>40.45</td>\n",
       "      <td>2461</td>\n",
       "      <td>2023</td>\n",
       "      <td>YyvLXOFyevRMSvJtkXodLvgejiqQNvSOZfeeJASDOVTxwm...</td>\n",
       "      <td>35-44</td>\n",
       "      <td>Startup</td>\n",
       "    </tr>\n",
       "    <tr>\n",
       "      <th>1</th>\n",
       "      <td>France</td>\n",
       "      <td>Manufacturing</td>\n",
       "      <td>Midjourney</td>\n",
       "      <td>35.72</td>\n",
       "      <td>8496</td>\n",
       "      <td>2024</td>\n",
       "      <td>AdFVhenjthYSKJNzxzfaGQk wLnjRCgrHTyfXQEFjFJCMO...</td>\n",
       "      <td>18-24</td>\n",
       "      <td>Enterprise</td>\n",
       "    </tr>\n",
       "    <tr>\n",
       "      <th>2</th>\n",
       "      <td>Australia</td>\n",
       "      <td>Transportation</td>\n",
       "      <td>ChatGPT</td>\n",
       "      <td>13.47</td>\n",
       "      <td>8641</td>\n",
       "      <td>2024</td>\n",
       "      <td>zgNPmXBICRNbpjpTqIUWmMTeTYsInDNtAmzuxpDvcUZEAi...</td>\n",
       "      <td>45-54</td>\n",
       "      <td>Startup</td>\n",
       "    </tr>\n",
       "    <tr>\n",
       "      <th>3</th>\n",
       "      <td>UK</td>\n",
       "      <td>Manufacturing</td>\n",
       "      <td>ChatGPT</td>\n",
       "      <td>48.46</td>\n",
       "      <td>3488</td>\n",
       "      <td>2023</td>\n",
       "      <td>LxeKzQFbPvhxXUSgPVlLLJ pUFaicjCgiMtAmsTjovkrdE...</td>\n",
       "      <td>45-54</td>\n",
       "      <td>Enterprise</td>\n",
       "    </tr>\n",
       "    <tr>\n",
       "      <th>4</th>\n",
       "      <td>UK</td>\n",
       "      <td>Agriculture</td>\n",
       "      <td>Stable Diffusion</td>\n",
       "      <td>34.06</td>\n",
       "      <td>1124</td>\n",
       "      <td>2024</td>\n",
       "      <td>IOQtQoSKdSmiXRsUKpjXjXZgQohymFkVUvOASXlEnVsIOS...</td>\n",
       "      <td>45-54</td>\n",
       "      <td>SME</td>\n",
       "    </tr>\n",
       "  </tbody>\n",
       "</table>\n",
       "</div>"
      ],
      "text/plain": [
       "     country        industry           ai_tool  adoption_rate  \\\n",
       "0        USA      Technology           ChatGPT          40.45   \n",
       "1     France   Manufacturing        Midjourney          35.72   \n",
       "2  Australia  Transportation           ChatGPT          13.47   \n",
       "3         UK   Manufacturing           ChatGPT          48.46   \n",
       "4         UK     Agriculture  Stable Diffusion          34.06   \n",
       "\n",
       "   daily_active_users  year  \\\n",
       "0                2461  2023   \n",
       "1                8496  2024   \n",
       "2                8641  2024   \n",
       "3                3488  2023   \n",
       "4                1124  2024   \n",
       "\n",
       "                                       user_feedback age_group company_size  \n",
       "0  YyvLXOFyevRMSvJtkXodLvgejiqQNvSOZfeeJASDOVTxwm...     35-44      Startup  \n",
       "1  AdFVhenjthYSKJNzxzfaGQk wLnjRCgrHTyfXQEFjFJCMO...     18-24   Enterprise  \n",
       "2  zgNPmXBICRNbpjpTqIUWmMTeTYsInDNtAmzuxpDvcUZEAi...     45-54      Startup  \n",
       "3  LxeKzQFbPvhxXUSgPVlLLJ pUFaicjCgiMtAmsTjovkrdE...     45-54   Enterprise  \n",
       "4  IOQtQoSKdSmiXRsUKpjXjXZgQohymFkVUvOASXlEnVsIOS...     45-54          SME  "
      ]
     },
     "execution_count": 67,
     "metadata": {},
     "output_type": "execute_result"
    }
   ],
   "source": [
    "df=pd.read_csv(r'C:\\Users\\taham\\Downloads\\ai_adoption_dataset.csv') # Loading data using pandas\n",
    "df.head() # checking the first 5 rows of the dataset"
   ]
  },
  {
   "cell_type": "code",
   "execution_count": 68,
   "id": "a548e257-2e92-461a-9f4d-b14e71c4c407",
   "metadata": {},
   "outputs": [],
   "source": [
    "df=df.drop('user_feedback',axis=1) # dropping user_feedback columns as no feedback found \n"
   ]
  },
  {
   "cell_type": "code",
   "execution_count": 69,
   "id": "1b683702-0e6c-482c-9a59-ab365f450dde",
   "metadata": {},
   "outputs": [
    {
     "data": {
      "text/plain": [
       "country               0\n",
       "industry              0\n",
       "ai_tool               0\n",
       "adoption_rate         0\n",
       "daily_active_users    0\n",
       "year                  0\n",
       "age_group             0\n",
       "company_size          0\n",
       "dtype: int64"
      ]
     },
     "execution_count": 69,
     "metadata": {},
     "output_type": "execute_result"
    }
   ],
   "source": [
    "df.isnull().sum() # finding out how many columns have none or missing values"
   ]
  },
  {
   "cell_type": "markdown",
   "id": "a3d2d664-b9f3-432c-b15f-830a11b75d8f",
   "metadata": {},
   "source": [
    "# No Null/missing value found so there is no need to drop any row or column containing null values"
   ]
  },
  {
   "cell_type": "code",
   "execution_count": 70,
   "id": "474e9ee4-ef4c-4d05-9a87-25660cd3ba1a",
   "metadata": {},
   "outputs": [
    {
     "name": "stdout",
     "output_type": "stream",
     "text": [
      "<class 'pandas.core.frame.DataFrame'>\n",
      "RangeIndex: 145000 entries, 0 to 144999\n",
      "Data columns (total 8 columns):\n",
      " #   Column              Non-Null Count   Dtype  \n",
      "---  ------              --------------   -----  \n",
      " 0   country             145000 non-null  object \n",
      " 1   industry            145000 non-null  object \n",
      " 2   ai_tool             145000 non-null  object \n",
      " 3   adoption_rate       145000 non-null  float64\n",
      " 4   daily_active_users  145000 non-null  int64  \n",
      " 5   year                145000 non-null  int64  \n",
      " 6   age_group           145000 non-null  object \n",
      " 7   company_size        145000 non-null  object \n",
      "dtypes: float64(1), int64(2), object(5)\n",
      "memory usage: 8.9+ MB\n"
     ]
    }
   ],
   "source": [
    "df.info() # getting the summary of data and check the data types of each column"
   ]
  },
  {
   "cell_type": "markdown",
   "id": "2e82126d-db9d-4ef8-8b59-c426a9b38000",
   "metadata": {},
   "source": [
    "# 'Year' column found in integer format no need to convert to datetime format\n"
   ]
  },
  {
   "cell_type": "code",
   "execution_count": 71,
   "id": "7f5c00b2-ccf4-471c-9c9e-1fdaf71b04b7",
   "metadata": {},
   "outputs": [
    {
     "data": {
      "text/plain": [
       "0"
      ]
     },
     "execution_count": 71,
     "metadata": {},
     "output_type": "execute_result"
    }
   ],
   "source": [
    "df.duplicated().sum() # No duplicate values are found"
   ]
  },
  {
   "cell_type": "markdown",
   "id": "c1a69a15-e4c0-49ca-9cd2-87a0e6130124",
   "metadata": {},
   "source": [
    "# No duplicate value found, so no need to drop the column or row containing duplicate values"
   ]
  },
  {
   "cell_type": "markdown",
   "id": "01aa7248-d6fb-4c23-ad14-b9b179dfab4f",
   "metadata": {},
   "source": [
    "# Checking outliers with the use box plot\n"
   ]
  },
  {
   "cell_type": "code",
   "execution_count": 72,
   "id": "6e99af06-8707-4a43-a078-e1b1faa5cabe",
   "metadata": {},
   "outputs": [
    {
     "data": {
      "text/html": [
       "<div>\n",
       "<style scoped>\n",
       "    .dataframe tbody tr th:only-of-type {\n",
       "        vertical-align: middle;\n",
       "    }\n",
       "\n",
       "    .dataframe tbody tr th {\n",
       "        vertical-align: top;\n",
       "    }\n",
       "\n",
       "    .dataframe thead th {\n",
       "        text-align: right;\n",
       "    }\n",
       "</style>\n",
       "<table border=\"1\" class=\"dataframe\">\n",
       "  <thead>\n",
       "    <tr style=\"text-align: right;\">\n",
       "      <th></th>\n",
       "      <th>adoption_rate</th>\n",
       "      <th>daily_active_users</th>\n",
       "      <th>year</th>\n",
       "    </tr>\n",
       "  </thead>\n",
       "  <tbody>\n",
       "    <tr>\n",
       "      <th>count</th>\n",
       "      <td>145000.000000</td>\n",
       "      <td>145000.000000</td>\n",
       "      <td>145000.000000</td>\n",
       "    </tr>\n",
       "    <tr>\n",
       "      <th>mean</th>\n",
       "      <td>49.873025</td>\n",
       "      <td>5039.302683</td>\n",
       "      <td>2023.703117</td>\n",
       "    </tr>\n",
       "    <tr>\n",
       "      <th>std</th>\n",
       "      <td>28.842523</td>\n",
       "      <td>2858.124918</td>\n",
       "      <td>0.456886</td>\n",
       "    </tr>\n",
       "    <tr>\n",
       "      <th>min</th>\n",
       "      <td>0.000000</td>\n",
       "      <td>100.000000</td>\n",
       "      <td>2023.000000</td>\n",
       "    </tr>\n",
       "    <tr>\n",
       "      <th>25%</th>\n",
       "      <td>24.930000</td>\n",
       "      <td>2566.000000</td>\n",
       "      <td>2023.000000</td>\n",
       "    </tr>\n",
       "    <tr>\n",
       "      <th>50%</th>\n",
       "      <td>49.760000</td>\n",
       "      <td>5036.000000</td>\n",
       "      <td>2024.000000</td>\n",
       "    </tr>\n",
       "    <tr>\n",
       "      <th>75%</th>\n",
       "      <td>74.840000</td>\n",
       "      <td>7515.000000</td>\n",
       "      <td>2024.000000</td>\n",
       "    </tr>\n",
       "    <tr>\n",
       "      <th>max</th>\n",
       "      <td>100.000000</td>\n",
       "      <td>9999.000000</td>\n",
       "      <td>2024.000000</td>\n",
       "    </tr>\n",
       "  </tbody>\n",
       "</table>\n",
       "</div>"
      ],
      "text/plain": [
       "       adoption_rate  daily_active_users           year\n",
       "count  145000.000000       145000.000000  145000.000000\n",
       "mean       49.873025         5039.302683    2023.703117\n",
       "std        28.842523         2858.124918       0.456886\n",
       "min         0.000000          100.000000    2023.000000\n",
       "25%        24.930000         2566.000000    2023.000000\n",
       "50%        49.760000         5036.000000    2024.000000\n",
       "75%        74.840000         7515.000000    2024.000000\n",
       "max       100.000000         9999.000000    2024.000000"
      ]
     },
     "execution_count": 72,
     "metadata": {},
     "output_type": "execute_result"
    }
   ],
   "source": [
    "df.describe() # using this to identify any key outliers present in the numerical columns"
   ]
  },
  {
   "cell_type": "code",
   "execution_count": null,
   "id": "112c293e-e137-4db1-ab51-47257037cebf",
   "metadata": {},
   "outputs": [],
   "source": []
  },
  {
   "cell_type": "code",
   "execution_count": 73,
   "id": "aede12a2-12c7-4f3b-8ac7-8922d6f3543b",
   "metadata": {},
   "outputs": [
    {
     "data": {
      "text/plain": [
       "<Axes: >"
      ]
     },
     "execution_count": 73,
     "metadata": {},
     "output_type": "execute_result"
    },
    {
     "data": {
      "image/png": "[encoded data removed]",
      "text/plain": [
       "<Figure size 600x1000 with 1 Axes>"
      ]
     },
     "metadata": {},
     "output_type": "display_data"
    }
   ],
   "source": [
    "plt.figure(figsize=(6,10))\n",
    "sns.boxplot(df[['adoption_rate','daily_active_users','year']])"
   ]
  },
  {
   "cell_type": "markdown",
   "id": "9bf3b187-2a3a-4c3a-9d85-e97ad56400f3",
   "metadata": {},
   "source": [
    "# No outlier is found in the data according to box plot as seen above, so no need to use IQR Methond of removing outlers"
   ]
  },
  {
   "cell_type": "markdown",
   "id": "93d1ecb9-1885-47de-8b7f-13546f53024b",
   "metadata": {},
   "source": [
    "# Storing the cleaned data set as csv file"
   ]
  },
  {
   "cell_type": "code",
   "execution_count": 75,
   "id": "95d9b0fb-4205-4c8b-ba42-b45cad98db87",
   "metadata": {},
   "outputs": [],
   "source": [
    "df.to_csv(r'C:\\Users\\taham\\Downloads\\Clenaed_ai_adoption_dataset.csv')"
   ]
  },
  {
   "cell_type": "markdown",
   "id": "82cfb452-fd94-42aa-a9d5-ba9fe11322b7",
   "metadata": {},
   "source": [
    "# Now the data is ready to perform some useful analysis"
   ]
  },
  {
   "cell_type": "code",
   "execution_count": null,
   "id": "e4cc4006-357e-495f-ae76-c813bc421351",
   "metadata": {},
   "outputs": [],
   "source": []
  }
 ],
 "metadata": {
  "kernelspec": {
   "display_name": "Python [conda env:base] *",
   "language": "python",
   "name": "conda-base-py"
  },
  "language_info": {
   "codemirror_mode": {
    "name": "ipython",
    "version": 3
   },
   "file_extension": ".py",
   "mimetype": "text/x-python",
   "name": "python",
   "nbconvert_exporter": "python",
   "pygments_lexer": "ipython3",
   "version": "3.12.7"
  }
 },
 "nbformat": 4,
 "nbformat_minor": 5
}
